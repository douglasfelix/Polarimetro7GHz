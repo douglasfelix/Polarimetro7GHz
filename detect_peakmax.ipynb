{
 "cells": [
  {
   "cell_type": "code",
   "execution_count": 35,
   "metadata": {},
   "outputs": [
    {
     "ename": "ImportError",
     "evalue": "No module named sunpy",
     "output_type": "error",
     "traceback": [
      "\u001b[0;31m---------------------------------------------------------------------------\u001b[0m",
      "\u001b[0;31mImportError\u001b[0m                               Traceback (most recent call last)",
      "\u001b[0;32m<ipython-input-35-c47b842b1575>\u001b[0m in \u001b[0;36m<module>\u001b[0;34m()\u001b[0m\n\u001b[1;32m      3\u001b[0m \u001b[0;32mimport\u001b[0m \u001b[0mmatplotlib\u001b[0m\u001b[0;34m.\u001b[0m\u001b[0mpyplot\u001b[0m \u001b[0;32mas\u001b[0m \u001b[0mplt\u001b[0m\u001b[0;34m\u001b[0m\u001b[0m\n\u001b[1;32m      4\u001b[0m \u001b[0;32mfrom\u001b[0m \u001b[0mdatetime\u001b[0m \u001b[0;32mimport\u001b[0m \u001b[0mdatetime\u001b[0m\u001b[0;34m,\u001b[0m\u001b[0mtimedelta\u001b[0m\u001b[0;34m\u001b[0m\u001b[0m\n\u001b[0;32m----> 5\u001b[0;31m \u001b[0;32mimport\u001b[0m \u001b[0msunpy\u001b[0m\u001b[0;34m\u001b[0m\u001b[0m\n\u001b[0m",
      "\u001b[0;31mImportError\u001b[0m: No module named sunpy"
     ]
    }
   ],
   "source": [
    "%matplotlib inline\n",
    "import numpy as np\n",
    "import matplotlib.pyplot as plt\n",
    "from datetime import datetime,timedelta\n",
    "import sunpy"
   ]
  },
  {
   "cell_type": "code",
   "execution_count": 2,
   "metadata": {},
   "outputs": [],
   "source": [
    "f = open(\"9-6-2017-9-6-2017\",\"r\")\n",
    "#print F.read(5)\n",
    "l0 = f.readline()\n",
    "l1 = f.readline()\n",
    "l2 = f.readline()\n",
    "l3 = f.readline()"
   ]
  },
  {
   "cell_type": "code",
   "execution_count": 3,
   "metadata": {
    "scrolled": true
   },
   "outputs": [
    {
     "name": "stdout",
     "output_type": "stream",
     "text": [
      "Author,Lenovo\r\n",
      "TimeStamp,9/6/2017  11:09\r\n",
      "Sample Clock Rate,0.00\r\n",
      "\r\n",
      "\n"
     ]
    }
   ],
   "source": [
    "print l0,l1,l2,l3"
   ]
  },
  {
   "cell_type": "code",
   "execution_count": 4,
   "metadata": {
    "collapsed": true
   },
   "outputs": [],
   "source": [
    "ltest = f.readline()"
   ]
  },
  {
   "cell_type": "code",
   "execution_count": 5,
   "metadata": {},
   "outputs": [
    {
     "name": "stdout",
     "output_type": "stream",
     "text": [
      "Author,Lenovo\r\n",
      "\n",
      "TimeStamp,9/6/2017  17:09\r\n",
      "Sample Clock Rate,0.00\r\n",
      "\r\n",
      "0.951    0.772\r\n",
      "\n"
     ]
    }
   ],
   "source": [
    "col0=[]\n",
    "col1=[]\n",
    "col2=[]\n",
    "cont=0\n",
    "\n",
    "while ltest[0] <> 'A':\n",
    "    col0.append(cont)\n",
    "    col1.append(float(ltest[:5]))\n",
    "    col2.append(float(ltest[9:14]))\n",
    "    ltest = f.readline()\n",
    "    cont += 1\n",
    "else:\n",
    "    print ltest\n",
    "    ll1 = f.readline()\n",
    "    ll2 = f.readline()\n",
    "    ll3 = f.readline()\n",
    "    lltest = f.readline()\n",
    "    print ll1,ll2,ll3,lltest"
   ]
  },
  {
   "cell_type": "code",
   "execution_count": 6,
   "metadata": {},
   "outputs": [],
   "source": [
    "start = datetime.strptime(\"2017-09-06 11:09:00.000\", \"%Y-%m-%d %H:%M:%S.%f\")\n",
    "end = datetime.strptime(\"2017-09-06 17:09:00.100\", \"%Y-%m-%d %H:%M:%S.%f\")"
   ]
  },
  {
   "cell_type": "code",
   "execution_count": 21,
   "metadata": {},
   "outputs": [],
   "source": [
    "dt = start##datetime(2010, 12, 01)\n",
    "end = end## datetime(2010, 12, 01, 23, 59, 59)\n",
    "step = timedelta(milliseconds=20)\n",
    "\n",
    "timlis = []\n",
    "\n",
    "while dt < end:\n",
    "    timlis.append(dt)##.strftime('%Y-%m-%d %H:%M:%S.%f'))\n",
    "    dt += step"
   ]
  },
  {
   "cell_type": "code",
   "execution_count": null,
   "metadata": {
    "collapsed": true
   },
   "outputs": [],
   "source": [
    "path='/home/douglas/Polarimetro7GHz/'\n",
    "data = np.genfromtxt(path+'gev_20170906_115300_GOESFLUXdata.txt',\\\n",
    "                     dtype=[('timetag', 'S19'),\\\n",
    "                            ('A FLUX', '>f14'),\\\n",
    "                            ('B FLUX', '>f14')],\\\n",
    "                     delimiter=\",\",skip_header=1)\n",
    "\n",
    "fmt=\"%Y-%m-%d %H:%M:%S\"\n",
    "evehrtime=[]\n",
    "for i in range(len(data['timetag'])):\n",
    "    temtime.append(datetime.strptime(data['timetag'][i],fmt))\n",
    "\n",
    "dat_A = data['A Flux']###-np.nanmin(data['18nm'])\n",
    "#dat18 = dat18/np.nanmax(dat18)\n",
    "dat_B = data['B Flux']###-0*np.nanmin(data['26nm'])\n",
    "#dat26 = dat26/np.nanmax(dat26)\n",
    "#dat30 = data['30nm']-np.nanmin(data['30nm'])\n",
    "#dat30 = dat30/np.nanmax(dat30)\n",
    "#dat36 = data['36nm']-np.nanmin(data['36nm'])\n",
    "#dat36 = dat36/np.nanmax(dat36)\n",
    "goestemlc = sunpy.lightcurve.LightCurve.create(\n",
    "{'A':dat_A,\n",
    " 'B':dat_B},\n",
    "    index=temtime)"
   ]
  },
  {
   "cell_type": "code",
   "execution_count": 34,
   "metadata": {},
   "outputs": [],
   "source": [
    "path='/home/douglas/Polarimetro7GHz/'\n",
    "data = np.genfromtxt(path+'gev_20170906_115300_GOESTEMdata.txt',\\\n",
    "                     dtype=[('timetag', 'S19'),\\\n",
    "                            ('T', '>f8'),\\\n",
    "                            ('EM', '>f8')],\\\n",
    "                     delimiter=\",\",skip_header=1)\n",
    "\n",
    "fmt=\"%Y-%m-%d %H:%M:%S\"\n",
    "evehrtime=[]\n",
    "for i in range(len(data['timetag'])):\n",
    "    temtime.append(datetime.strptime(data['timetag'][i],fmt))\n",
    "\n",
    "dat_T = data['T']###-np.nanmin(data['18nm'])\n",
    "#dat18 = dat18/np.nanmax(dat18)\n",
    "dat_EM = data['EM']###-0*np.nanmin(data['26nm'])\n",
    "#dat26 = dat26/np.nanmax(dat26)\n",
    "#dat30 = data['30nm']-np.nanmin(data['30nm'])\n",
    "#dat30 = dat30/np.nanmax(dat30)\n",
    "#dat36 = data['36nm']-np.nanmin(data['36nm'])\n",
    "#dat36 = dat36/np.nanmax(dat36)\n",
    "goestemlc = sunpy.lightcurve.LightCurve.create(\n",
    "{'T':dat_T,\n",
    " 'EM':dat_EM},\n",
    "    index=temtime)\n"
   ]
  },
  {
   "cell_type": "code",
   "execution_count": 32,
   "metadata": {},
   "outputs": [
    {
     "data": {
      "text/plain": [
       "(736578.4923611111, 736578.4993055556)"
      ]
     },
     "execution_count": 32,
     "metadata": {},
     "output_type": "execute_result"
    },
    {
     "data": {
      "image/png": "[encoded data removed]",
      "text/plain": [
       "<matplotlib.figure.Figure at 0x7efc0629c290>"
      ]
     },
     "metadata": {},
     "output_type": "display_data"
    }
   ],
   "source": [
    "plt.figure(figsize = (11.69,8.27))\n",
    "ini = datetime.strptime(\"2017-09-06 11:49:00.000\", \"%Y-%m-%d %H:%M:%S.%f\")\n",
    "fin = datetime.strptime(\"2017-09-06 11:59:00.000\", \"%Y-%m-%d %H:%M:%S.%f\")                        \n",
    "plt.plot(timlis,np.array(col1))\n",
    "plt.plot(timlis,np.array(col2))\n",
    "plt.xlim(ini,fin)"
   ]
  },
  {
   "cell_type": "code",
   "execution_count": null,
   "metadata": {},
   "outputs": [],
   "source": []
  },
  {
   "cell_type": "code",
   "execution_count": null,
   "metadata": {
    "collapsed": true
   },
   "outputs": [],
   "source": []
  }
 ],
 "metadata": {
  "kernelspec": {
   "display_name": "Python 2",
   "language": "python",
   "name": "python2"
  },
  "language_info": {
   "codemirror_mode": {
    "name": "ipython",
    "version": 2
   },
   "file_extension": ".py",
   "mimetype": "text/x-python",
   "name": "python",
   "nbconvert_exporter": "python",
   "pygments_lexer": "ipython2",
   "version": "2.7.13"
  }
 },
 "nbformat": 4,
 "nbformat_minor": 2
}
