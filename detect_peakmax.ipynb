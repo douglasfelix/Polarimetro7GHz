{
 "cells": [
  {
   "cell_type": "code",
   "execution_count": 68,
   "metadata": {},
   "outputs": [],
   "source": [
    "%matplotlib inline\n",
    "import numpy as np\n",
    "import matplotlib.pyplot as plt\n",
    "from datetime import datetime,timedelta\n",
    "import sunpy.lightcurve as lc"
   ]
  },
  {
   "cell_type": "code",
   "execution_count": 2,
   "metadata": {
    "collapsed": true
   },
   "outputs": [],
   "source": [
    "f = open(\"9-6-2017-9-6-2017\",\"r\")\n",
    "#print F.read(5)\n",
    "l0 = f.readline()\n",
    "l1 = f.readline()\n",
    "l2 = f.readline()\n",
    "l3 = f.readline()"
   ]
  },
  {
   "cell_type": "code",
   "execution_count": 3,
   "metadata": {
    "scrolled": true
   },
   "outputs": [
    {
     "name": "stdout",
     "output_type": "stream",
     "text": [
      "Author,Lenovo\r\n",
      "TimeStamp,9/6/2017  11:09\r\n",
      "Sample Clock Rate,0.00\r\n",
      "\r\n",
      "\n"
     ]
    }
   ],
   "source": [
    "print l0,l1,l2,l3"
   ]
  },
  {
   "cell_type": "code",
   "execution_count": 4,
   "metadata": {
    "collapsed": true
   },
   "outputs": [],
   "source": [
    "ltest = f.readline()"
   ]
  },
  {
   "cell_type": "code",
   "execution_count": 5,
   "metadata": {},
   "outputs": [
    {
     "name": "stdout",
     "output_type": "stream",
     "text": [
      "Author,Lenovo\r\n",
      "\n",
      "TimeStamp,9/6/2017  17:09\r\n",
      "Sample Clock Rate,0.00\r\n",
      "\r\n",
      "0.951    0.772\r\n",
      "\n"
     ]
    }
   ],
   "source": [
    "col0=[]\n",
    "col1=[]\n",
    "col2=[]\n",
    "cont=0\n",
    "\n",
    "while ltest[0] <> 'A':\n",
    "    col0.append(cont)\n",
    "    col1.append(float(ltest[:5]))\n",
    "    col2.append(float(ltest[9:14]))\n",
    "    ltest = f.readline()\n",
    "    cont += 1\n",
    "else:\n",
    "    print ltest\n",
    "    ll1 = f.readline()\n",
    "    ll2 = f.readline()\n",
    "    ll3 = f.readline()\n",
    "    lltest = f.readline()\n",
    "    print ll1,ll2,ll3,lltest"
   ]
  },
  {
   "cell_type": "code",
   "execution_count": 6,
   "metadata": {
    "collapsed": true
   },
   "outputs": [],
   "source": [
    "start = datetime.strptime(\"2017-09-06 11:09:00.000\", \"%Y-%m-%d %H:%M:%S.%f\")\n",
    "end = datetime.strptime(\"2017-09-06 17:09:00.100\", \"%Y-%m-%d %H:%M:%S.%f\")"
   ]
  },
  {
   "cell_type": "code",
   "execution_count": 7,
   "metadata": {
    "collapsed": true
   },
   "outputs": [],
   "source": [
    "dt = start##datetime(2010, 12, 01)\n",
    "end = end## datetime(2010, 12, 01, 23, 59, 59)\n",
    "step = timedelta(milliseconds=20)\n",
    "\n",
    "timlis = []\n",
    "\n",
    "while dt < end:\n",
    "    timlis.append(dt)##.strftime('%Y-%m-%d %H:%M:%S.%f'))\n",
    "    dt += step"
   ]
  },
  {
   "cell_type": "code",
   "execution_count": 39,
   "metadata": {
    "collapsed": true
   },
   "outputs": [],
   "source": [
    "rawR = np.array(col1)\n",
    "Right = rawR - np.min(rawR)\n",
    "rawL = np.array(col2)\n",
    "Left = rawL - np.min(rawL)"
   ]
  },
  {
   "cell_type": "markdown",
   "metadata": {
    "collapsed": true
   },
   "source": [
    "path='/home/douglas/Polarimetro7GHz/'\n",
    "data = np.genfromtxt(path+'gev_20170906_115300_GOESFLUXdata.txt',\\\n",
    "                     dtype=[('time_tag', 'S19'),\\\n",
    "                            ('A FLUX', '>f14'),\\\n",
    "                            ('B FLUX', '>f14')],\\\n",
    "                     delimiter=\",\",skip_header=1)\n",
    "\n",
    "fmt=\"%Y-%m-%d %H:%M:%S\"\n",
    "evehrtime=[]\n",
    "for i in range(len(data['time_tag'])):\n",
    "    temtime.append(datetime.strptime(data['time_tag'][i],fmt))\n",
    "\n",
    "dat_A = data['A Flux']###-np.nanmin(data['18nm'])\n",
    "#dat18 = dat18/np.nanmax(dat18)\n",
    "dat_B = data['B Flux']###-0*np.nanmin(data['26nm'])\n",
    "#dat26 = dat26/np.nanmax(dat26)\n",
    "#dat30 = data['30nm']-np.nanmin(data['30nm'])\n",
    "#dat30 = dat30/np.nanmax(dat30)\n",
    "#dat36 = data['36nm']-np.nanmin(data['36nm'])\n",
    "#dat36 = dat36/np.nanmax(dat36)\n",
    "goestemlc = sunpy.lightcurve.LightCurve.create(\n",
    "{'A':dat_A,\n",
    " 'B':dat_B},\n",
    "    index=temtime)"
   ]
  },
  {
   "cell_type": "code",
   "execution_count": null,
   "metadata": {
    "collapsed": true
   },
   "outputs": [],
   "source": [
    "/home/douglas/Polarimetro7GHz/gev_20170906_115300_GOESTEMdata.txt"
   ]
  },
  {
   "cell_type": "code",
   "execution_count": 69,
   "metadata": {},
   "outputs": [],
   "source": [
    "path='/home/douglas/Polarimetro7GHz/'\n",
    "data = np.genfromtxt(path+'gev_20170906_115300_GOESTEMdata.txt',\\\n",
    "                     dtype=[('timetag', 'S19'),\\\n",
    "                            ('T', '>f8'),\\\n",
    "                            ('EM', '>f8')],\\\n",
    "                     delimiter=\",\",skip_header=1)\n",
    "\n",
    "fmt=\"%Y-%m-%d %H:%M:%S\"\n",
    "temtime=[]\n",
    "for i in range(len(data['timetag'])):\n",
    "    temtime.append(datetime.strptime(data['timetag'][i],fmt))\n",
    "\n",
    "dat_T = data['T']###-np.nanmin(data['18nm'])\n",
    "#dat18 = dat18/np.nanmax(dat18)\n",
    "dat_EM = data['EM']###-0*np.nanmin(data['26nm'])\n",
    "#dat26 = dat26/np.nanmax(dat26)\n",
    "#dat30 = data['30nm']-np.nanmin(data['30nm'])\n",
    "#dat30 = dat30/np.nanmax(dat30)\n",
    "#dat36 = data['36nm']-np.nanmin(data['36nm'])\n",
    "#dat36 = dat36/np.nanmax(dat36)\n",
    "goestemlc = lc.LightCurve.create(\n",
    "{'T':dat_T,\n",
    " 'EM':dat_EM},\n",
    "    index=temtime)\n"
   ]
  },
  {
   "cell_type": "code",
   "execution_count": 71,
   "metadata": {},
   "outputs": [
    {
     "name": "stderr",
     "output_type": "stream",
     "text": [
      "/home/douglas/anaconda2/lib/python2.7/site-packages/sunpy/lightcurve/lightcurve.py:299: RuntimeWarning: Using existing file rather than downloading, use overwrite=True to override.\n",
      "  \"overwrite=True to override.\", RuntimeWarning)\n"
     ]
    }
   ],
   "source": [
    "from sunpy.time import TimeRange\n",
    "goes = lc.GOESLightCurve.create(TimeRange('2017/09/06', '2017/09/07'))\n",
    "#goes.peek()   # doctest: +SKIP\n"
   ]
  },
  {
   "cell_type": "code",
   "execution_count": 73,
   "metadata": {},
   "outputs": [
    {
     "name": "stdout",
     "output_type": "stream",
     "text": [
      "xrsa\n",
      "xrsb\n"
     ]
    }
   ],
   "source": [
    "for items in goes.data:\n",
    "    print items"
   ]
  },
  {
   "cell_type": "code",
   "execution_count": 139,
   "metadata": {},
   "outputs": [
    {
     "data": {
      "text/plain": [
       "<matplotlib.legend.Legend at 0x7fe2b6423290>"
      ]
     },
     "execution_count": 139,
     "metadata": {},
     "output_type": "execute_result"
    },
    {
     "data": {
      "image/png": "[encoded data removed]",
      "text/plain": [
       "<matplotlib.figure.Figure at 0x7fe2b6511a10>"
      ]
     },
     "metadata": {},
     "output_type": "display_data"
    }
   ],
   "source": [
    "fig = plt.figure(figsize = (11.69,8.27))\n",
    "ax1 = fig.add_subplot(111)\n",
    "ini = datetime.strptime(\"2017-09-06 11:09:00.000\", \"%Y-%m-%d %H:%M:%S.%f\")\n",
    "fin = datetime.strptime(\"2017-09-06 17:09:00.000\", \"%Y-%m-%d %H:%M:%S.%f\")                        \n",
    "ax1.plot(timlis,Right)\n",
    "ax1.plot(timlis,Left)\n",
    "ax2 = ax1.twinx()\n",
    "#ax2.plot(goestemlc.data.index,goestemlc.data['EM'],label='EM')\n",
    "#ax2.plot(goestemlc.data.index,np.ediff1d(goestemlc.data['EM'],to_end=0),color='r',label='EM')\n",
    "ax2.plot(goes.data.index,goes.data['xrsa'],label='xrsa')\n",
    "#ax3 = ax1.twinx()\n",
    "ax1.plot(goes.data.index,2+1e6*np.ediff1d(goes.data['xrsa'],to_end=0),color='r',label='EM')\n",
    "ax1.set_xlim(ini,fin)\n",
    "ax1.set_ylim(2.0,13.0)\n",
    "#ax3.set_ylim(-0.03,0.5)\n",
    "ax2.set_yscale('log')\n",
    "ax2.legend()"
   ]
  },
  {
   "cell_type": "code",
   "execution_count": null,
   "metadata": {
    "collapsed": true
   },
   "outputs": [],
   "source": []
  },
  {
   "cell_type": "code",
   "execution_count": null,
   "metadata": {
    "collapsed": true
   },
   "outputs": [],
   "source": []
  }
 ],
 "metadata": {
  "kernelspec": {
   "display_name": "Python 2",
   "language": "python",
   "name": "python2"
  },
  "language_info": {
   "codemirror_mode": {
    "name": "ipython",
    "version": 2
   },
   "file_extension": ".py",
   "mimetype": "text/x-python",
   "name": "python",
   "nbconvert_exporter": "python",
   "pygments_lexer": "ipython2",
   "version": "2.7.13"
  }
 },
 "nbformat": 4,
 "nbformat_minor": 2
}
