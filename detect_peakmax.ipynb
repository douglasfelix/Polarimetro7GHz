{
 "cells": [
  {
   "cell_type": "code",
   "execution_count": 18,
   "metadata": {},
   "outputs": [],
   "source": [
    "%matplotlib inline\n",
    "import numpy as np\n",
    "import matplotlib.pyplot as plt"
   ]
  },
  {
   "cell_type": "code",
   "execution_count": 19,
   "metadata": {},
   "outputs": [],
   "source": [
    "q= open(\"9-6-2017-9-6-2017\")\n",
    "f = open(\"9-6-2017-9-6-2017\",\"r+\")\n",
    "#print F.read(5)\n",
    "l0 = f.readline()\n",
    "l1 = f.readline()\n",
    "l2 = f.readline()\n",
    "l3 = f.readline()"
   ]
  },
  {
   "cell_type": "markdown",
   "metadata": {},
   "source": [
    "for i in range(len())\n",
    "l = q.readline()\n",
    "print l"
   ]
  },
  {
   "cell_type": "code",
   "execution_count": 20,
   "metadata": {},
   "outputs": [
    {
     "name": "stdout",
     "output_type": "stream",
     "text": [
      "Author,Lenovo\r\n",
      "TimeStamp,9/6/2017  11:09\r\n",
      "Sample Clock Rate,0.00\r\n",
      "\r\n",
      "\n"
     ]
    }
   ],
   "source": [
    "print l0,l1,l2,l3"
   ]
  },
  {
   "cell_type": "code",
   "execution_count": 21,
   "metadata": {},
   "outputs": [],
   "source": [
    "ltest = f.readline()"
   ]
  },
  {
   "cell_type": "code",
   "execution_count": 22,
   "metadata": {},
   "outputs": [
    {
     "name": "stdout",
     "output_type": "stream",
     "text": [
      "Author,Lenovo\r\n",
      "\n",
      "TimeStamp,9/6/2017  17:09\r\n",
      "Sample Clock Rate,0.00\r\n",
      "\r\n",
      "0.951    0.772\r\n",
      "\n"
     ]
    }
   ],
   "source": [
    "col0=[]\n",
    "col1=[]\n",
    "col2=[]\n",
    "cont=0\n",
    "\n",
    "while ltest[0] <> 'A':\n",
    "    col0.append(cont)\n",
    "    col1.append(float(ltest[:5]))\n",
    "    col2.append(float(ltest[9:14]))\n",
    "    ltest = f.readline()\n",
    "    cont += 1\n",
    "else:\n",
    "    print ltest\n",
    "    ll1 = f.readline()\n",
    "    ll2 = f.readline()\n",
    "    ll3 = f.readline()\n",
    "    lltest = f.readline()\n",
    "    print ll1,ll2,ll3,lltest"
   ]
  },
  {
   "cell_type": "code",
   "execution_count": null,
   "metadata": {},
   "outputs": [],
   "source": [
    "col1=[]\n",
    "col2=[]\n",
    "\n",
    "while ltest[0] <> 'A':\n",
    "    col1.append(float(ltest[:5]))\n",
    "    col2.append(float(ltest[9:14]))\n",
    "    ltest = f.readline()   \n",
    "else:\n",
    "    #l = f.readline()\n",
    "    l1 = f.readline()\n",
    "    l2 = f.readline()\n",
    "    l3 = f.readline()\n",
    "    ltest2 = f.readline()\n",
    "    print ltest,l1,l2,l3,ltest2\n",
    "    ltest = ltest2"
   ]
  },
  {
   "cell_type": "code",
   "execution_count": 9,
   "metadata": {},
   "outputs": [
    {
     "ename": "SyntaxError",
     "evalue": "invalid syntax (<ipython-input-9-7e0a73521c40>, line 8)",
     "output_type": "error",
     "traceback": [
      "\u001b[0;36m  File \u001b[0;32m\"<ipython-input-9-7e0a73521c40>\"\u001b[0;36m, line \u001b[0;32m8\u001b[0m\n\u001b[0;31m    elif:\u001b[0m\n\u001b[0m       ^\u001b[0m\n\u001b[0;31mSyntaxError\u001b[0m\u001b[0;31m:\u001b[0m invalid syntax\n"
     ]
    }
   ],
   "source": [
    "col1=[]\n",
    "col2=[]\n",
    "\n",
    "if ltest[0] <> 'A':\n",
    "    col1.append(float(ltest[:5]))\n",
    "    col2.append(float(ltest[9:14]))\n",
    "    ltest = f.readline()   \n",
    "elif:\n",
    "    #l = f.readline()\n",
    "    l1 = f.readline()\n",
    "    l2 = f.readline()\n",
    "    l3 = f.readline()\n",
    "    ltest2 = f.readline()\n",
    "    print ltest,l1,l2,l3,ltest2\n",
    "    ltest = ltest2"
   ]
  },
  {
   "cell_type": "code",
   "execution_count": 6,
   "metadata": {},
   "outputs": [
    {
     "data": {
      "text/plain": [
       "[<matplotlib.lines.Line2D at 0x7f2576620910>]"
      ]
     },
     "execution_count": 6,
     "metadata": {},
     "output_type": "execute_result"
    },
    {
     "data": {
      "image/png": "[encoded data removed]",
      "text/plain": [
       "<matplotlib.figure.Figure at 0x7f2576620950>"
      ]
     },
     "metadata": {},
     "output_type": "display_data"
    }
   ],
   "source": [
    "#plt.plot(np.array(col0))\n",
    "plt.plot(np.array(col0),np.array(col1))\n",
    "plt.plot(np.array(col0),np.array(col2))\n"
   ]
  },
  {
   "cell_type": "code",
   "execution_count": 7,
   "metadata": {},
   "outputs": [
    {
     "data": {
      "text/plain": [
       "1080005"
      ]
     },
     "execution_count": 7,
     "metadata": {},
     "output_type": "execute_result"
    }
   ],
   "source": [
    "len(col1)l0 = f.readline()"
   ]
  },
  {
   "cell_type": "code",
   "execution_count": null,
   "metadata": {
    "collapsed": true
   },
   "outputs": [],
   "source": []
  }
 ],
 "metadata": {
  "kernelspec": {
   "display_name": "Python 2",
   "language": "python",
   "name": "python2"
  },
  "language_info": {
   "codemirror_mode": {
    "name": "ipython",
    "version": 2
   },
   "file_extension": ".py",
   "mimetype": "text/x-python",
   "name": "python",
   "nbconvert_exporter": "python",
   "pygments_lexer": "ipython2",
   "version": "2.7.13"
  }
 },
 "nbformat": 4,
 "nbformat_minor": 2
}
